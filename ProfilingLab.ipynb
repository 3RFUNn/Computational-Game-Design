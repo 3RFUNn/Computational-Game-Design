{
  "cells": [
    {
      "cell_type": "markdown",
      "metadata": {
        "id": "view-in-github",
        "colab_type": "text"
      },
      "source": [
        "<a href=\"https://colab.research.google.com/github/3RFUNn/Computational-Game-Design/blob/main/ProfilingLab.ipynb\" target=\"_parent\"><img src=\"https://colab.research.google.com/assets/colab-badge.svg\" alt=\"Open In Colab\"/></a>"
      ]
    },
    {
      "cell_type": "markdown",
      "source": [
        "# Erfan Rafieioskouei - 240842587"
      ],
      "metadata": {
        "id": "W4Bba25OTKv1"
      },
      "id": "W4Bba25OTKv1"
    },
    {
      "cell_type": "markdown",
      "id": "e96b7dc3-b598-4714-9b73-03314629d027",
      "metadata": {
        "id": "e96b7dc3-b598-4714-9b73-03314629d027"
      },
      "source": [
        "## ECS7017P Lab 2\n",
        "\n",
        "**Complete the exercises in this notebook and submit it as part of Coursework 1.**\n",
        "\n",
        "# Player Profiling in Dota 2\n",
        "\n",
        "In this week’s lab you will use this [Jupyter Notebook](https://docs.jupyter.org/en/latest/) to create a set of **player profiles** for the popular MOBA game *Dota 2*. Profiles separate players into groups who are similar in some way. The notebook guides you through this process. However, you will need to make your own decisions and interpret the results as part of the analysis. You are also free to e.g. remove players or adjust features if it helps the profiling, and to add extra visualisations if it helps you understand the data.\n",
        "\n",
        "A notebook is a series of editable cells, containing either Python code (Code cells) or formatted text (Markdown cells). This notebook was written for [Google Colab](https://colab.research.google.com/) - but it could be run on another cloud service (like [Binder](https://mybinder.org/)) or [locally](https://jupyter.org/install).\n",
        "\n",
        "### Exercises\n",
        "\n",
        "The exercises in this lab are assessed, as part of the first coursework in this module. There are 25 marks available.\n",
        "* Exercise 1: examine correlations between the original features. (2 points)\n",
        "* Exercise 2: derive some new features to describe players. (3 points)\n",
        "* Exercise 3: extract new features and reduce the dimensionality of the dataset using PCA. (6 points)\n",
        "* Exercise 4: use K-Means to look for clusters in the reduced space, and interpret the results as player\n",
        "profiles. (6 points)\n",
        "* Exercise 5: consider the cluster tendancy of the dataset. (2 points)\n",
        "* Exercise 6: apply AHC to the same dataset. (6 points)\n",
        "\n",
        "### Submitting Your Work\n",
        "\n",
        "Save/download a copy of this notebook and include that **ipynb file** in your ZIP file submission for Coursework 1.\n",
        "That file should include all your lab work, i.e. any code/text you've added, and any results and images you generated."
      ]
    },
    {
      "cell_type": "code",
      "execution_count": null,
      "id": "2b73861b-673c-4d87-91b4-785f87393615",
      "metadata": {
        "id": "2b73861b-673c-4d87-91b4-785f87393615"
      },
      "outputs": [],
      "source": [
        "import pandas as pd\n",
        "import numpy as np\n",
        "import matplotlib.pyplot as plt"
      ]
    },
    {
      "cell_type": "markdown",
      "id": "cbbe4a62-9039-4df5-be39-d32667d4edcb",
      "metadata": {
        "id": "cbbe4a62-9039-4df5-be39-d32667d4edcb"
      },
      "source": [
        "# Dota 2\n",
        "\n",
        "In Dota 2, two teams (*Radient* and *Dire*) of five players compete in a match. Each player controls a different *hero*, and fight opposing heroes in player versus player (PvP) combat on a large battlefield. The goal is to destroy the opponent team's *base* and defend yours from the other team. Both teams have weaker NPC members (*creeps*) and defensive buildings which their opponents will try to destroy, e.g. *barracks* (called *rax*) and *towers*. The map also contains neutral NPCs and buildings.\n",
        "\n",
        "<img src=\"https://cdn.fastly.steamstatic.com/steam/apps/570/header.jpg\" style=\"margin-left:auto; margin-right:auto\"/>\n",
        "\n",
        "**Experience points (XP)** are gained by killing enemy units, or being nearby as enemy units get killed (an *assist*). It is used to increase a hero's level, increasing their attributes and unlocking new abilities.\n",
        "\n",
        "**Gold** is earned in various ways, including hero kills/assists, destroying buildings, and *last hitting* enemy creeps (landing the final blow). It is passively gained periodically throughout the game. Gold is used to purchase items, and to bypass the respawn cooldown after death (*buyback*). Players may *deny* opponents gold by killing their own team's creeps.\n",
        "\n",
        "# The Dataset\n",
        "\n",
        "The dataset we will be using provides in-game metrics for 865 players. Each player has a unique ID (`PlayerID`) and the following features:\n",
        "\n",
        "* `GamesPlayed`: number of games the player has played.\n",
        "* `GamesWon`: number they have won.\n",
        "* `Ditches`: how many times the player was thrown out of a game.\n",
        "* `GamesLeft`: how many times they voluntarily left a game early.\n",
        "* `Points`: experience points gained.\n",
        "* `Kills`: enemy heroes the player killed.\n",
        "* `KillsPerMin`: the player’s mean kills per minute played.\n",
        "* `Deaths`: number of time the player died.\n",
        "* `Assist`: player is near or damages an enemy hero who’s killed.\n",
        "* `CreepsKilled`: enemy creep kills.\n",
        "* `CreepsDenied`: own team's creeps killed.\n",
        "* `NeutralsKilled`: neutral NPCs killed.\n",
        "* `TowersDestroyed`: tower buildings destroyed.\n",
        "* `RaxsDestroyed`: barracks buildings destroyed.\n",
        "* `TotalTime`: total playtime logged for this player.\n",
        "\n",
        "# Getting Started\n",
        "\n",
        "Download the Dota dataset from QMPlus and import it into a Pandas dataframe."
      ]
    },
    {
      "cell_type": "code",
      "execution_count": null,
      "id": "4cec2919-b40d-4f47-b7b3-87ba6dfae44a",
      "metadata": {
        "id": "4cec2919-b40d-4f47-b7b3-87ba6dfae44a"
      },
      "outputs": [],
      "source": [
        "dota = pd.read_csv(\"DoTalicious_lab4.csv\")\n",
        "dota.describe()"
      ]
    },
    {
      "cell_type": "markdown",
      "id": "f94c859f-d005-453a-bb88-0bd4e0e086ee",
      "metadata": {
        "id": "f94c859f-d005-453a-bb88-0bd4e0e086ee"
      },
      "source": [
        "PlayerID is a **nominal** variable: these numbers are just names for individual players. The rest of the features are numeric, and will be the basis for our player profiles."
      ]
    },
    {
      "cell_type": "code",
      "execution_count": null,
      "id": "adfe7f47-0364-4f71-8517-4599b1cf93a8",
      "metadata": {
        "id": "adfe7f47-0364-4f71-8517-4599b1cf93a8"
      },
      "outputs": [],
      "source": [
        "numData = dota.drop(columns='PlayerID') # Ignore player IDs\n",
        "numFeatures = list(numData.columns.values) # Make a list of numeric features\n",
        "numFeatures # Show the list"
      ]
    },
    {
      "cell_type": "code",
      "execution_count": null,
      "id": "53f4e132-054a-4687-84dd-e5014878c843",
      "metadata": {
        "id": "53f4e132-054a-4687-84dd-e5014878c843"
      },
      "outputs": [],
      "source": [
        "dota[numFeatures].hist(bins=20,figsize=(10,30),layout=(8,2))\n",
        "plt.subplots_adjust(hspace=1)"
      ]
    },
    {
      "cell_type": "markdown",
      "id": "96255983-9c7b-44b6-8396-0724c88fb589",
      "metadata": {
        "id": "96255983-9c7b-44b6-8396-0724c88fb589"
      },
      "source": [
        "# Correlations\n",
        "\n",
        "Let's see how these features are [correlated](https://www.ncl.ac.uk/webtemplate/ask-assets/external/maths-resources/statistics/regression-and-correlation/types-of-correlation.html)."
      ]
    },
    {
      "cell_type": "code",
      "execution_count": null,
      "id": "bd992fe4-9ba8-4965-9634-fa3768bbe4b0",
      "metadata": {
        "id": "bd992fe4-9ba8-4965-9634-fa3768bbe4b0"
      },
      "outputs": [],
      "source": [
        "# Calculate correlation between each pair of features\n",
        "correlationMatrix = dota[numFeatures].corr()\n",
        "# Display correlation matrix\n",
        "correlationMatrix.style.background_gradient(cmap='Reds')"
      ]
    },
    {
      "cell_type": "markdown",
      "id": "4a86dfeb-5ba9-451c-a7bd-8232dc730893",
      "metadata": {
        "id": "4a86dfeb-5ba9-451c-a7bd-8232dc730893"
      },
      "source": [
        "It seems many of the features are strongly correlated with how many games/playtime was logged. This makes sense: for example, the number of games you win (`GamesWon`) is going to be higher the more games you play (`GamesPlayed`).\n",
        "\n",
        "---\n",
        "# Exercise 1\n",
        "\n",
        "Which feature(s) are not strongly correlated with GamesPlayed? Why do you think this is?"
      ]
    },
    {
      "cell_type": "markdown",
      "id": "d8ae4b9e-6b3e-450b-80c8-95a85ed456e9",
      "metadata": {
        "id": "d8ae4b9e-6b3e-450b-80c8-95a85ed456e9"
      },
      "source": [
        "Your answer: ..."
      ]
    },
    {
      "cell_type": "markdown",
      "id": "a620e8f4-f8cf-455d-b84f-4a7bd310ec10",
      "metadata": {
        "id": "a620e8f4-f8cf-455d-b84f-4a7bd310ec10"
      },
      "source": [
        "---\n",
        "\n",
        "# Feature Engineering\n"
      ]
    },
    {
      "cell_type": "markdown",
      "id": "00bef81d-d78a-45b3-8dae-627920e44635",
      "metadata": {
        "id": "00bef81d-d78a-45b3-8dae-627920e44635"
      },
      "source": [
        "In order to profile players using these in-game metrics, we should focus on how players perform in an *average* game. We want to engineer some new metrics which are independant of how many matches were logged for particular player (`GamesPlayed`), or how much of their playtime was logged overall (`TotalTime`).\n",
        "\n",
        "For example, we can define a new feature from `WinRate` which measures a player’s wins per game."
      ]
    },
    {
      "cell_type": "code",
      "execution_count": null,
      "id": "a681f703-ddfa-4936-ab8c-3f41aed68c69",
      "metadata": {
        "id": "a681f703-ddfa-4936-ab8c-3f41aed68c69"
      },
      "outputs": [],
      "source": [
        "dota['WinRate'] = dota['GamesWon'] / dota['GamesPlayed']\n",
        "\n",
        "dota[['WinRate']].hist(bins=20,figsize=(10,30),layout=(8,2))"
      ]
    },
    {
      "cell_type": "markdown",
      "id": "9368c8f6-019a-40e1-b3a0-3382d4d85c6e",
      "metadata": {
        "id": "9368c8f6-019a-40e1-b3a0-3382d4d85c6e"
      },
      "source": [
        "---\n",
        "# Exercise 2\n",
        "\n",
        "Following the example of `WinRate`, consider which existing features should be made independent of games played or total playtime. Define these new features. Briefly explain your choice. Plot the distributions for the new features.\n",
        "\n",
        "Our player profiling will use the new features, and any original features that were already time-independent.\n",
        "\n",
        "Define list `myFeatures` to include ALL the features you intend to use for player profiling."
      ]
    },
    {
      "cell_type": "code",
      "execution_count": null,
      "id": "2cb68520-a2aa-4405-a56d-df246365ec42",
      "metadata": {
        "id": "2cb68520-a2aa-4405-a56d-df246365ec42"
      },
      "outputs": [],
      "source": [
        "# Add your code\n",
        "myFeatures = ['WinRate']"
      ]
    },
    {
      "cell_type": "markdown",
      "id": "30333c2b-b617-4abe-9a6a-cddb405f9eb8",
      "metadata": {
        "id": "30333c2b-b617-4abe-9a6a-cddb405f9eb8"
      },
      "source": [
        "Explain your choice: ..."
      ]
    },
    {
      "cell_type": "markdown",
      "id": "1170c59b-c778-4495-9f26-fe4172aed011",
      "metadata": {
        "id": "1170c59b-c778-4495-9f26-fe4172aed011"
      },
      "source": [
        "---\n",
        "\n",
        "# Scaling Features\n",
        "\n",
        "Before we work with the data, we need to scale our selected features."
      ]
    },
    {
      "cell_type": "code",
      "execution_count": null,
      "id": "2106bd2d-1a49-4673-8f97-5e49d9af404c",
      "metadata": {
        "id": "2106bd2d-1a49-4673-8f97-5e49d9af404c"
      },
      "outputs": [],
      "source": [
        "from sklearn.preprocessing import MinMaxScaler\n",
        "scaler = MinMaxScaler()\n",
        "\n",
        "# Scale our features\n",
        "dota[myFeatures] = scaler.fit_transform(dota[myFeatures])"
      ]
    },
    {
      "cell_type": "markdown",
      "id": "1db44710-9841-4f04-91d1-f1c30775a94a",
      "metadata": {
        "id": "1db44710-9841-4f04-91d1-f1c30775a94a"
      },
      "source": [
        "# Feature Extraction with PCA\n",
        "\n",
        "We will now try to **extract** some new features from the data using PCA. Define the variable `nPC` as the\n",
        "maximum number of principal components to compute. Then apply PCA to the data."
      ]
    },
    {
      "cell_type": "code",
      "execution_count": null,
      "id": "5219d2c3-1cdb-4ff8-9732-eb5b4e36980c",
      "metadata": {
        "id": "5219d2c3-1cdb-4ff8-9732-eb5b4e36980c"
      },
      "outputs": [],
      "source": [
        "from sklearn.decomposition import PCA\n",
        "nPC = 1 # Choose a suitable value here\n",
        "pca = PCA(n_components=nPC).fit(dota[myFeatures]) # Compute PCA\n",
        "dota_pca = pca.transform(dota[myFeatures]) # Project the player data in the new space"
      ]
    },
    {
      "cell_type": "markdown",
      "id": "e39ed454-bf6e-4159-8e78-51aa5aca14c4",
      "metadata": {
        "id": "e39ed454-bf6e-4159-8e78-51aa5aca14c4"
      },
      "source": [
        "Let's look at the player data plotted against the first two principal components."
      ]
    },
    {
      "cell_type": "code",
      "execution_count": null,
      "id": "60d83d2a-9202-4826-b80a-1d4f8ecc2bf6",
      "metadata": {
        "id": "60d83d2a-9202-4826-b80a-1d4f8ecc2bf6"
      },
      "outputs": [],
      "source": [
        "plt.scatter(dota_pca[:,0],dota_pca[:,1])"
      ]
    },
    {
      "cell_type": "markdown",
      "id": "51cbad4b-d54a-4f0d-a6be-062565508f5b",
      "metadata": {
        "id": "51cbad4b-d54a-4f0d-a6be-062565508f5b"
      },
      "source": [
        "Examine the proportion of the total variance explained by each of the principal components."
      ]
    },
    {
      "cell_type": "code",
      "execution_count": null,
      "id": "babf6d54-3094-4705-b9f8-513f4763ddae",
      "metadata": {
        "id": "babf6d54-3094-4705-b9f8-513f4763ddae"
      },
      "outputs": [],
      "source": [
        "pca.explained_variance_"
      ]
    },
    {
      "cell_type": "markdown",
      "id": "d35e93a5-9762-4c08-aa9a-3dee97debfb4",
      "metadata": {
        "id": "d35e93a5-9762-4c08-aa9a-3dee97debfb4"
      },
      "source": [
        "Now plot these values for each principal component (PC1, PC2, PC3, ... etc.):"
      ]
    },
    {
      "cell_type": "code",
      "execution_count": null,
      "id": "c57695ad-b39b-48fe-b126-8bf891bfb67e",
      "metadata": {
        "id": "c57695ad-b39b-48fe-b126-8bf891bfb67e"
      },
      "outputs": [],
      "source": [
        "plt.plot(np.arange(pca.n_components_) + 1, pca.explained_variance_, 'ro-', linewidth=2)"
      ]
    },
    {
      "cell_type": "markdown",
      "id": "f32f8a6a-76f7-4038-8050-990492a64995",
      "metadata": {
        "id": "f32f8a6a-76f7-4038-8050-990492a64995"
      },
      "source": [
        "Finally, we examine the loadings of your features on the principal components, i.e. the weights used to calculate\n",
        "each principal component as a linear combination of input features."
      ]
    },
    {
      "cell_type": "code",
      "execution_count": null,
      "id": "df6b1944-8f1b-4a7f-83f8-0d6d4795b531",
      "metadata": {
        "id": "df6b1944-8f1b-4a7f-83f8-0d6d4795b531"
      },
      "outputs": [],
      "source": [
        "pcLabels = [\"PC\"+str(i) for i in range(1,nPC + 1)]\n",
        "loadings = pd.DataFrame(pca.components_.T, columns=pcLabels, index=myFeatures)\n",
        "loadings.style.background_gradient(cmap='bwr',vmin=-1,vmax=1)"
      ]
    },
    {
      "cell_type": "markdown",
      "id": "c8931c0e-88ff-4fc1-9912-2dfe043bedc1",
      "metadata": {
        "id": "c8931c0e-88ff-4fc1-9912-2dfe043bedc1"
      },
      "source": [
        "---\n",
        "# Exercise 3\n",
        "\n",
        "The next step is to drop the less important principal components, retaining those which tell us most about how players vary in their behaviour. Which principal components should we keep, and why? Is there more than one alternative?\n",
        "\n",
        "Provide an interpretation for each of the components you intend to keep, i.e. how each one describes players."
      ]
    },
    {
      "cell_type": "markdown",
      "id": "69d0ba57-aeca-4afb-b6e0-b0d50e051635",
      "metadata": {
        "id": "69d0ba57-aeca-4afb-b6e0-b0d50e051635"
      },
      "source": [
        "Your answer:"
      ]
    },
    {
      "cell_type": "markdown",
      "id": "ae188e74-2328-4520-8edd-5e88bfacc71a",
      "metadata": {
        "id": "ae188e74-2328-4520-8edd-5e88bfacc71a"
      },
      "source": [
        "---\n",
        "Define a list `pcs` of the principal components you are keeping. Add each of these as a new column in the dataframe. This is a new lower dimension feature space you can use to analyse player behaviour.\n",
        "\n",
        "For example, if you only wanted to keep the first two principal components (i.e. reducing the data to two dimensions):"
      ]
    },
    {
      "cell_type": "code",
      "execution_count": null,
      "id": "1cf736aa-8dea-4a27-8b85-1fc18efff616",
      "metadata": {
        "id": "1cf736aa-8dea-4a27-8b85-1fc18efff616"
      },
      "outputs": [],
      "source": [
        "# Edit this with your choice of PCs\n",
        "pcs = ['PC1','PC2']\n",
        "dota['PC1'] = dota_pca[:,0]\n",
        "dota['PC2'] = dota_pca[:,1]"
      ]
    },
    {
      "cell_type": "markdown",
      "id": "4fa735da-6c7b-4cd5-b5f3-f0a2feb17689",
      "metadata": {
        "id": "4fa735da-6c7b-4cd5-b5f3-f0a2feb17689"
      },
      "source": [
        "---\n",
        "\n",
        "# Clustering Players with K-Means"
      ]
    },
    {
      "cell_type": "markdown",
      "id": "0bd69ab7-00be-46c5-a3e4-c8b66424aea5",
      "metadata": {
        "id": "0bd69ab7-00be-46c5-a3e4-c8b66424aea5"
      },
      "source": [
        "The next stage is to try to cluster players in your lower dimension feature space using K-Means. We will have to decide on the number of clusters `K`.\n",
        "\n",
        "Let’s define a function `kmeans_eval` to evaluate K-Means clusterings using both WSS and silhouette scores."
      ]
    },
    {
      "cell_type": "code",
      "execution_count": null,
      "id": "2152fb3c-af75-449d-b1cf-cff275b9cca7",
      "metadata": {
        "id": "2152fb3c-af75-449d-b1cf-cff275b9cca7"
      },
      "outputs": [],
      "source": [
        "from sklearn.cluster import KMeans\n",
        "from sklearn.metrics import silhouette_score\n",
        "\n",
        "k_values = range(2, 10) # Range of K values to examine\n",
        "\n",
        "# Compute and evaluate K-means clusters for all k_values\n",
        "def kmeans_eval(some_data):\n",
        "    wss = []\n",
        "    silhouettes = []\n",
        "    for k in k_values:\n",
        "        model = KMeans(n_clusters=k)\n",
        "        model.fit(some_data)\n",
        "        km_labels = model.predict(some_data)\n",
        "        wss.append(model.inertia_)\n",
        "        silhouettes.append(silhouette_score(some_data, km_labels))\n",
        "    return wss, silhouettes\n",
        "\n",
        "# Apply this to our data\n",
        "wss, silhouettes = kmeans_eval(dota[pcs])"
      ]
    },
    {
      "cell_type": "markdown",
      "id": "5ee2b3e0-6391-44de-aed6-4c159d56748d",
      "metadata": {
        "id": "5ee2b3e0-6391-44de-aed6-4c159d56748d"
      },
      "source": [
        "Plot the WSS for each value of K."
      ]
    },
    {
      "cell_type": "code",
      "execution_count": null,
      "id": "127ff960-8453-4c84-809f-4a8cdcb58a2f",
      "metadata": {
        "id": "127ff960-8453-4c84-809f-4a8cdcb58a2f"
      },
      "outputs": [],
      "source": [
        "# Plot WSS for each K\n",
        "plt.plot(k_values, wss, '-o', color='black')\n",
        "plt.ylabel('WSS')\n",
        "plt.show()"
      ]
    },
    {
      "cell_type": "markdown",
      "id": "cc3e33b7-97bf-4989-919f-07ec3f49236f",
      "metadata": {
        "id": "cc3e33b7-97bf-4989-919f-07ec3f49236f"
      },
      "source": [
        "Repeat this plot for the silhouette widths. Use these plots to decide on a good choice for K. Define this with a variable\n",
        "`goodK`."
      ]
    },
    {
      "cell_type": "code",
      "execution_count": null,
      "id": "548ec691-f890-46ef-8bcd-3bea473054d6",
      "metadata": {
        "id": "548ec691-f890-46ef-8bcd-3bea473054d6"
      },
      "outputs": [],
      "source": [
        "# Plot the silhouette widths for each K"
      ]
    },
    {
      "cell_type": "code",
      "execution_count": null,
      "id": "755866e7-9247-4714-b9dc-09904aef4b04",
      "metadata": {
        "id": "755866e7-9247-4714-b9dc-09904aef4b04"
      },
      "outputs": [],
      "source": [
        "goodK = 1"
      ]
    },
    {
      "cell_type": "markdown",
      "id": "cb3f7071-310c-4fee-87fb-43e107d4ec84",
      "metadata": {
        "id": "cb3f7071-310c-4fee-87fb-43e107d4ec84"
      },
      "source": [
        "Rerun K-Means with your chosen number of clusters and visualise the results using the first two principal components. You may want to add plots for other PCs."
      ]
    },
    {
      "cell_type": "code",
      "execution_count": null,
      "id": "71eed187-3c36-4195-92b4-3493752817ee",
      "metadata": {
        "id": "71eed187-3c36-4195-92b4-3493752817ee"
      },
      "outputs": [],
      "source": [
        "km = KMeans(n_clusters=goodK)\n",
        "km.fit(dota[pcs])\n",
        "dota['Cluster1'] = km.predict(dota[pcs])\n",
        "plt.scatter(dota['PC1'],dota['PC2'],c=dota['Cluster1'])"
      ]
    },
    {
      "cell_type": "markdown",
      "id": "37788b4c-7e2e-426e-a244-98464a551474",
      "metadata": {
        "id": "37788b4c-7e2e-426e-a244-98464a551474"
      },
      "source": [
        "---\n",
        "# Exercise 4\n",
        "\n",
        "Why did you chose this value for K? Interpret the clusters as a set of player profiles. Provide an appropriate **name** and **description** of player behaviour for each profile."
      ]
    },
    {
      "cell_type": "markdown",
      "id": "1ff2a8f0-8488-4e32-8214-9df8bf79713d",
      "metadata": {
        "id": "1ff2a8f0-8488-4e32-8214-9df8bf79713d"
      },
      "source": [
        "Your answer: ..."
      ]
    },
    {
      "cell_type": "markdown",
      "id": "8f8c0404-2c75-42f9-b162-625b65f8de50",
      "metadata": {
        "id": "8f8c0404-2c75-42f9-b162-625b65f8de50"
      },
      "source": [
        "---\n",
        "# Exercise 5\n",
        "\n",
        "Do you think the player data has high cluster tendancy? **Justify** your answer using `pyclustertend` package. ([Documentation](https://pyclustertend.readthedocs.io/en/latest/)."
      ]
    },
    {
      "cell_type": "code",
      "execution_count": null,
      "id": "e1833c31-a88b-43a4-91f4-8316a2bf54af",
      "metadata": {
        "id": "e1833c31-a88b-43a4-91f4-8316a2bf54af"
      },
      "outputs": [],
      "source": [
        "# Your code\n",
        "from pyclustertend import vat\n"
      ]
    },
    {
      "cell_type": "code",
      "execution_count": null,
      "id": "70e08201-4f48-41c4-bfa9-c5b6ea8399d6",
      "metadata": {
        "id": "70e08201-4f48-41c4-bfa9-c5b6ea8399d6"
      },
      "outputs": [],
      "source": [
        "Your answer:"
      ]
    },
    {
      "cell_type": "markdown",
      "id": "e4611826-4de0-4748-9b45-a91eb4aa051d",
      "metadata": {
        "id": "e4611826-4de0-4748-9b45-a91eb4aa051d"
      },
      "source": [
        "---\n",
        "# Exercise 6\n",
        "\n",
        "Read the [scikit-learn documentation](https://scikit-learn.org/stable/modules/generated/sklearn.cluster.AgglomerativeClustering.html) for\n",
        "Agglomerative Hierarchical Clustering (AHC) and [their example code](https://scikit-learn.org/stable/auto_examples/cluster/plot_agglomerative_dendrogram.html).\n",
        "\n",
        "Apply AHC to the Dota dataset and visualise the results as a dendrogram. Provide an interpretation of the results in terms of player behaviour."
      ]
    },
    {
      "cell_type": "code",
      "execution_count": null,
      "id": "aca90efe-b6b3-4d1b-bfa8-0491d4ddd9af",
      "metadata": {
        "id": "aca90efe-b6b3-4d1b-bfa8-0491d4ddd9af"
      },
      "outputs": [],
      "source": [
        "# Your code\n"
      ]
    },
    {
      "cell_type": "markdown",
      "id": "60101982-c643-4064-8d24-54f2c231535a",
      "metadata": {
        "id": "60101982-c643-4064-8d24-54f2c231535a"
      },
      "source": [
        "Your answer: ..."
      ]
    },
    {
      "cell_type": "markdown",
      "id": "aef5214f-589a-4a28-b417-71646877fed9",
      "metadata": {
        "id": "aef5214f-589a-4a28-b417-71646877fed9"
      },
      "source": [
        "# Submission Reminder\n",
        "\n",
        "Your Coursework 1 ZIP file submission should include a modified copy of this notebook (a .ipynb file) documenting your lab work."
      ]
    }
  ],
  "metadata": {
    "kernelspec": {
      "display_name": "Python 3 (ipykernel)",
      "language": "python",
      "name": "python3"
    },
    "language_info": {
      "codemirror_mode": {
        "name": "ipython",
        "version": 3
      },
      "file_extension": ".py",
      "mimetype": "text/x-python",
      "name": "python",
      "nbconvert_exporter": "python",
      "pygments_lexer": "ipython3",
      "version": "3.10.4"
    },
    "colab": {
      "provenance": [],
      "include_colab_link": true
    }
  },
  "nbformat": 4,
  "nbformat_minor": 5
}